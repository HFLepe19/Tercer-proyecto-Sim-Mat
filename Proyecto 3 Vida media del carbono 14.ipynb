{
 "cells": [
  {
   "cell_type": "markdown",
   "metadata": {},
   "source": [
    "Cuando un elemento pasa por un decaimiento radioactivo, este genera radiación y este se transforma en otro elemento. La mejor forma  de entender este modelo es usando un modelo de dados y bloques.\n",
    "Cada átomo tiene una probabilidad aleatoria de decaer, la tasa de descomposición depende de la cantidad de átomos que se tengan presentes, osea, a mayor cantidad de átomos se descomponen se tiene una menor tasa de radioactividad porque estos se vuelven más estables.\n",
    "\n",
    "Para simplificar  este proceso, emplearemos un dado de seis caras, y empezamos con 100 bloques que representan a los átomos. Ahora cada vez que lancemos el dado, un objeto se descompone y se convierte en otra cosa. Cada vez que ruedes uno, pon ese objeto en una pila separada. Cuente los objetos restantes y repita el proceso hasta que la mitad de ellos se hayan deteriorado. Esto se denomina vida media: la cantidad de tiempo necesario para que la mitad de un número determinado de átomos se desintegre."
   ]
  },
  {
   "cell_type": "markdown",
   "metadata": {},
   "source": [
    "## Modelo de Python\n",
    "     Creamos un proyecto que simula lanzar un dado 1000 veces.\n",
    "Creamos un montón de objetos, que representan a los átomos, a cada uno se le asigna un número aleatorio,     esto simula el dado. \n",
    "Si ese número aleatorio es menor a un valor específico predeterminado, el elemento decae. Se cuenta el número de  átomos decaídos y volvemos a comenzar usando un loop (while). \n"
   ]
  },
  {
   "cell_type": "code",
   "execution_count": 1,
   "metadata": {},
   "outputs": [
    {
     "ename": "NameError",
     "evalue": "name 'gdots' is not defined",
     "output_type": "error",
     "traceback": [
      "\u001b[1;31m---------------------------------------------------------------------------\u001b[0m",
      "\u001b[1;31mNameError\u001b[0m                                 Traceback (most recent call last)",
      "\u001b[1;32m<ipython-input-1-30d1e33196ad>\u001b[0m in \u001b[0;36m<module>\u001b[1;34m\u001b[0m\n\u001b[0;32m      1\u001b[0m \u001b[1;31m#this part makes a graph\u001b[0m\u001b[1;33m\u001b[0m\u001b[1;33m\u001b[0m\u001b[1;33m\u001b[0m\u001b[0m\n\u001b[1;32m----> 2\u001b[1;33m \u001b[0mf1\u001b[0m\u001b[1;33m=\u001b[0m\u001b[0mgdots\u001b[0m\u001b[1;33m(\u001b[0m\u001b[0mcolor\u001b[0m\u001b[1;33m=\u001b[0m\u001b[0mcolor\u001b[0m\u001b[1;33m.\u001b[0m\u001b[0mred\u001b[0m\u001b[1;33m)\u001b[0m\u001b[1;33m\u001b[0m\u001b[1;33m\u001b[0m\u001b[0m\n\u001b[0m\u001b[0;32m      3\u001b[0m \u001b[0mf2\u001b[0m\u001b[1;33m=\u001b[0m\u001b[0mgcurve\u001b[0m\u001b[1;33m(\u001b[0m\u001b[1;33m)\u001b[0m\u001b[1;33m\u001b[0m\u001b[1;33m\u001b[0m\u001b[0m\n\u001b[0;32m      4\u001b[0m \u001b[1;33m\u001b[0m\u001b[0m\n\u001b[0;32m      5\u001b[0m \u001b[1;31m#N is the number of \"things\" to start with\u001b[0m\u001b[1;33m\u001b[0m\u001b[1;33m\u001b[0m\u001b[1;33m\u001b[0m\u001b[0m\n",
      "\u001b[1;31mNameError\u001b[0m: name 'gdots' is not defined"
     ]
    }
   ],
   "source": [
    "\n",
    "f1=gdots(color=color.red)\n",
    "f2=gcurve()\n",
    "\n",
    "N=2000\n",
    "n=0\n",
    "atoms=[]\n",
    "while n<=N:\n",
    "  atoms=atoms+[sphere(pos=vector(2*(random()-1),(2*random()-1),0),radius=0.03, color=color.yellow)]\n",
    "  n=n+1\n",
    "t=0\n",
    "dt=1\n",
    "r=1/6\n",
    "decay=0\n",
    "\n",
    "f1.plot(t,len(atoms))\n",
    "f2.plot(t,len(atoms))\n",
    "\n",
    "while t<25:\n",
    "  rate(1)\n",
    "  for i in atoms:\n",
    "    temp=random()\n",
    "    if temp<r:\n",
    "      i.visible=False\n",
    "      atoms.remove(i)\n",
    "      decay=decay+1\n",
    "  t=t+dt\n",
    "\n",
    "  f1.plot(t,len(atoms))\n",
    "  f2.plot(t,len(atoms))\n",
    "  \n",
    "print(\"decay = \",decay)\n",
    "print(\"atoms = \", len(atoms))"
   ]
  },
  {
   "cell_type": "code",
   "execution_count": null,
   "metadata": {},
   "outputs": [],
   "source": []
  }
 ],
 "metadata": {
  "kernelspec": {
   "display_name": "Python 3",
   "language": "python",
   "name": "python3"
  },
  "language_info": {
   "codemirror_mode": {
    "name": "ipython",
    "version": 3
   },
   "file_extension": ".py",
   "mimetype": "text/x-python",
   "name": "python",
   "nbconvert_exporter": "python",
   "pygments_lexer": "ipython3",
   "version": "3.7.1"
  }
 },
 "nbformat": 4,
 "nbformat_minor": 2
}
